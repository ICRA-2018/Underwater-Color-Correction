{
 "cells": [
  {
   "cell_type": "markdown",
   "metadata": {},
   "source": [
    "# Underwater GAN (UGAN)\n",
    "\n",
    "### [[Project Page]](http://irvlab.cs.umn.edu/enhancing-underwater-imagery-using-generative-adversarial-networks) [[arxiv]](https://arxiv.org/pdf/1801.04011.pdf) [[Video]](https://www.youtube.com/watch?v=tgTHleu9L0U)\n",
    "\n",
    "Color correction for underwater vision. This project uses CycleGAN to perform style transfer on \"clean\" underwater\n",
    "photos to appear to be underwater.\n",
    "\n",
    "We used [this video from Youtube](https://www.youtube.com/watch?v=QmRFmhILd5o) as our distorted domain, and\n",
    "hand picked images from Imagenet for our \"clean\" domain. CycleGAN was used to distort clean images to provide\n",
    "us a dataset.\n",
    "\n",
    "\n",
    "## Results\n",
    "![result1](https://i.imgur.com/V8PYG3g.png)\n",
    "\n",
    "## CycleGAN Comparison\n",
    "![result2](https://i.imgur.com/5WAjX7X.png)\n",
    "\n",
    "Other videos in consideration:\n",
    "\n",
    "https://www.youtube.com/watch?v=OSdrb1XNXZI\n",
    "\n",
    "https://www.youtube.com/watch?v=ALN6y2PLCq0"
   ]
  }
 ],

 "metadata": {
  "kernelspec": {
   "display_name": "Bash",
   "language": "bash",
   "name": "bash"
  },
  "language_info": {
   "codemirror_mode": "shell",
   "file_extension": ".sh",
   "mimetype": "text/x-sh",
   "name": "bash"
  }
 },
 "nbformat": 4,
 "nbformat_minor": 2
}
